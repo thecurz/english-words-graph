{
 "cells": [
  {
   "cell_type": "code",
   "execution_count": 2,
   "metadata": {},
   "outputs": [],
   "source": [
    "import graphviz as gv\n",
    "from helpers.read_data import read_data\n",
    "from helpers.read_data import convert, build_graph, BFS\n",
    "\n",
    "word_list, relations = read_data()\n",
    "relations = convert(BFS(build_graph(relations)))\n",
    "\n",
    "def show_graph(L, labels=None, path=[],\n",
    "             layout=\"circo\"):\n",
    "  g = gv.Graph(\"G\")\n",
    "  g.graph_attr[\"layout\"] = layout\n",
    "  g.edge_attr[\"color\"] = \"gray\"\n",
    "  g.node_attr[\"color\"] = \"orangered\"\n",
    "  g.node_attr[\"width\"] = \"0.1\"\n",
    "  g.node_attr[\"height\"] = \"0.1\"\n",
    "  g.node_attr[\"fontsize\"] = \"8\"\n",
    "  g.node_attr[\"fontcolor\"] = \"mediumslateblue\"\n",
    "  g.node_attr[\"fontname\"] = \"monospace\"\n",
    "  g.edge_attr[\"fontsize\"] = \"8\"\n",
    "  g.edge_attr[\"fontname\"] = \"monospace\"\n",
    " \n",
    "  for u in range(len(word_list)):\n",
    "    g.node(word_list[u])\n",
    "  added = set()\n",
    "\n",
    "  #REFACTOR\n",
    "  #REFACTOR\n",
    "  #REFACTOR\n",
    "  for v, u in enumerate(path):\n",
    "    if u != None:\n",
    "      #?????\n",
    "      for vi, w in L[u]:\n",
    "        if vi == v:\n",
    "          break\n",
    "        g.edge(str(u), str(v), str(w), dir=\"forward\", penwidth=\"2\", color=\"orange\")\n",
    "\n",
    "  for u in range(len(L)):\n",
    "      tail = L[u][0]\n",
    "      head = L[u][1][0]\n",
    "      if not f\"{tail},{head}\" in added:\n",
    "        added.add(f\"{tail},{head}\")\n",
    "        added.add(f\"{head},{tail}\")\n",
    "        g.edge(tail, head, L[u][1][1])\n",
    "  return g\n",
    "show_graph(relations[:200])"
   ]
  },
  {
   "cell_type": "code",
   "execution_count": null,
   "metadata": {},
   "outputs": [],
   "source": []
  }
 ],
 "metadata": {
  "kernelspec": {
   "display_name": "Python 3.10.6 ('venv': venv)",
   "language": "python",
   "name": "python3"
  },
  "language_info": {
   "codemirror_mode": {
    "name": "ipython",
    "version": 3
   },
   "file_extension": ".py",
   "mimetype": "text/x-python",
   "name": "python",
   "nbconvert_exporter": "python",
   "pygments_lexer": "ipython3",
   "version": "3.10.6"
  },
  "orig_nbformat": 4,
  "vscode": {
   "interpreter": {
    "hash": "33975a8c2cdae579edf31936dd98bd5c06b2678e7f6964180c8110353a773032"
   }
  }
 },
 "nbformat": 4,
 "nbformat_minor": 2
}
